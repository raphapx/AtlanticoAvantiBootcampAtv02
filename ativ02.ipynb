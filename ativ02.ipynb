{
 "cells": [
  {
   "cell_type": "markdown",
   "metadata": {},
   "source": [
    "# Importações e Configurações"
   ]
  },
  {
   "cell_type": "code",
   "execution_count": 84,
   "metadata": {},
   "outputs": [],
   "source": [
    "import numpy as np\n",
    "import pandas as pd\n",
    "import random as rnd"
   ]
  },
  {
   "cell_type": "markdown",
   "metadata": {},
   "source": [
    "# ATIVIDADE 02 AVANTI BOOTCAMP"
   ]
  },
  {
   "cell_type": "markdown",
   "metadata": {},
   "source": [
    "#### 1. Escreva uma função que receba uma lista de números e retorne outra lista"
   ]
  },
  {
   "cell_type": "code",
   "execution_count": 85,
   "metadata": {},
   "outputs": [
    {
     "name": "stdout",
     "output_type": "stream",
     "text": [
      "Lista: [7, 11, 18, 21, 22, 26, 30, 34, 41, 54, 55, 59, 67, 68, 69, 80, 83, 92, 96]\n",
      "Lista só com impares:[7, 11, 21, 41, 55, 59, 67, 69, 83]\n"
     ]
    }
   ],
   "source": [
    "def num_lista(lista):\n",
    "    impares = []\n",
    "    for num in lista:\n",
    "        if num % 2 != 0:\n",
    "            impares.append(num)\n",
    "    return impares\n",
    "\n",
    "\n",
    "lista = []\n",
    "for x in range(0,20):\n",
    "    num_escolhido = rnd.randint(1, 100)\n",
    "    if num_escolhido not in lista:\n",
    "        lista.append(num_escolhido)\n",
    "    \n",
    "\n",
    "lista.sort()\n",
    "\n",
    "\n",
    "print(f'Lista: {lista}\\nLista só com impares:{num_lista(lista)}')"
   ]
  },
  {
   "cell_type": "markdown",
   "metadata": {},
   "source": [
    "#### 2. Escreva uma função que receba uma lista de números e retorne outra lista com os números primos presentes. "
   ]
  },
  {
   "cell_type": "code",
   "execution_count": 86,
   "metadata": {},
   "outputs": [
    {
     "name": "stdout",
     "output_type": "stream",
     "text": [
      "[7, 11, 18, 21, 22, 26, 30, 34, 41, 54, 55, 59, 67, 68, 69, 80, 83, 92, 96]\n",
      "[7, 11, 41, 59, 67, 83]\n"
     ]
    }
   ],
   "source": [
    "def lista_primos(lista):\n",
    "    primos = []\n",
    "    for num in lista:\n",
    "        if num < 2:\n",
    "            continue\n",
    "        for c in range(2, int(num**0.5) + 1):\n",
    "            if num % c == 0:\n",
    "                break\n",
    "        else:\n",
    "            primos.append(num)\n",
    "    return primos\n",
    "\n",
    "print(lista)\n",
    "print(lista_primos(lista))"
   ]
  },
  {
   "cell_type": "markdown",
   "metadata": {},
   "source": [
    "#### 3. Escreva uma função que receba duas listas e retorne outra lista com os elementos que estão presentes em apenas uma das listas.  "
   ]
  },
  {
   "cell_type": "code",
   "execution_count": 87,
   "metadata": {},
   "outputs": [
    {
     "name": "stdout",
     "output_type": "stream",
     "text": [
      "[61, 22, 10, 68, 55, 60, 74, 85, 30, 72, 3, 6, 26, 32, 97, 41, 20, 21]\n",
      "[56, 21, 58, 63, 51, 45, 64, 65, 6, 75, 10, 100, 94, 59, 22, 90, 47, 95, 2, 87]\n",
      "[2, 3, 20, 26, 30, 32, 41, 45, 47, 51, 55, 56, 58, 59, 60, 61, 63, 64, 65, 68, 72, 74, 75, 85, 87, 90, 94, 95, 97, 100]\n"
     ]
    }
   ],
   "source": [
    "lista1 = []\n",
    "lista2 = []\n",
    "lista3 = []\n",
    "\n",
    "for x in range(0,20):\n",
    "    num_escolhido = rnd.randint(1, 100)\n",
    "    if num_escolhido not in lista1:\n",
    "        lista1.append(num_escolhido)\n",
    "for x in range(0,20):\n",
    "    num_escolhido = rnd.randint(1, 100)\n",
    "    if num_escolhido not in lista2:\n",
    "        lista2.append(num_escolhido)\n",
    "\n",
    "print(lista1)\n",
    "print(lista2)    \n",
    "\n",
    "def compara_listas(lista1, lista2):\n",
    "    for x in lista1:\n",
    "        if x not in lista2:\n",
    "            lista3.append(x)\n",
    "    for c in lista2:\n",
    "        if c not in lista1:\n",
    "            lista3.append(c)\n",
    "    lista3.sort()\n",
    "    return lista3\n",
    "\n",
    "\n",
    "print(compara_listas(lista1, lista2))"
   ]
  },
  {
   "cell_type": "markdown",
   "metadata": {},
   "source": [
    "#### 4. Dada uma lista de números inteiros, escreva uma função para encontrar o segundo maior valor na lista. "
   ]
  },
  {
   "cell_type": "code",
   "execution_count": 89,
   "metadata": {},
   "outputs": [
    {
     "name": "stdout",
     "output_type": "stream",
     "text": [
      "[7, 11, 18, 21, 22, 26, 30, 34, 41, 54, 55, 59, 67, 68, 69, 80, 83, 92, 96]\n",
      "92\n"
     ]
    }
   ],
   "source": [
    "def seg_maior(lista):\n",
    "    lista.sort()\n",
    "    return lista[-2]\n",
    "\n",
    "print(lista)\n",
    "print(seg_maior(lista))"
   ]
  },
  {
   "cell_type": "markdown",
   "metadata": {},
   "source": [
    "#### 5. Crie uma função que receba uma lista de tuplas, cada uma contendo o nome e a idade de uma pessoa, e retorne a lista ordenada pelo nome das pessoas em ordem alfabética."
   ]
  },
  {
   "cell_type": "code",
   "execution_count": 94,
   "metadata": {},
   "outputs": [
    {
     "name": "stdout",
     "output_type": "stream",
     "text": [
      "[('Felipe', 30), ('Mariana', 25), ('Raphael', 32)]\n"
     ]
    }
   ],
   "source": [
    "p1 = ('Raphael', 32)\n",
    "p2 = ('Felipe', 30)\n",
    "p3 = ('Mariana', 25)\n",
    "lista = []\n",
    "lista.append(p1)\n",
    "lista.append(p2)\n",
    "lista.append(p3)\n",
    "\n",
    "def ordernar(lista):\n",
    "    lista.sort()\n",
    "    return lista\n",
    "\n",
    "print(ordernar(lista))"
   ]
  },
  {
   "cell_type": "markdown",
   "metadata": {},
   "source": [
    "#### 6. Observe os espaços sublinhados e complete o código.\n",
    "  "
   ]
  },
  {
   "cell_type": "code",
   "execution_count": 98,
   "metadata": {},
   "outputs": [
    {
     "data": {
      "image/png": "[encoded data removed]",
      "text/plain": [
       "<Figure size 550x350 with 4 Axes>"
      ]
     },
     "metadata": {},
     "output_type": "display_data"
    }
   ],
   "source": [
    "import matplotlib.pyplot as plt\n",
    "import numpy as np\n",
    "\n",
    "fig, axs = plt.subplots(ncols=2, nrows=2, figsize=(5.5, 3.5), layout=\"constrained\")\n",
    "for x in range(2):\n",
    "    for c in range(2):\n",
    "        axs[x, c].annotate(f'axs[{x}, {c}]', (0.5, 0.5),\n",
    "                           transform=axs[x, c].transAxes,\n",
    "                           ha='center', va='center', fontsize=18,\n",
    "                           color='darkgrey')\n",
    "fig.suptitle('fig.subplots()')\n",
    "\n",
    "plt.show()\n"
   ]
  },
  {
   "cell_type": "markdown",
   "metadata": {},
   "source": [
    "#### 7. Observe os espaços sublinhados e complete o código."
   ]
  },
  {
   "cell_type": "code",
   "execution_count": 99,
   "metadata": {},
   "outputs": [
    {
     "data": {
      "text/plain": [
       "[<matplotlib.lines.Line2D at 0x205dd800d10>]"
      ]
     },
     "execution_count": 99,
     "metadata": {},
     "output_type": "execute_result"
    },
    {
     "data": {
      "image/png": "[encoded data removed]",
      "text/plain": [
       "<Figure size 640x480 with 1 Axes>"
      ]
     },
     "metadata": {},
     "output_type": "display_data"
    }
   ],
   "source": [
    "import numpy as np\n",
    "import matplotlib as mpl\n",
    "import matplotlib.pyplot as plt\n",
    "x = np.linspace(-2 * np.pi, 2 * np.pi, 100)\n",
    "y = np.sin(x)\n",
    "fig, ax = plt.subplots()\n",
    "ax.plot(x, y) "
   ]
  },
  {
   "cell_type": "markdown",
   "metadata": {},
   "source": [
    "#### 8. Utilizando pandas, como realizar a leitura de um arquivo CSV em um DataFrame e exibir as primeiras linhas?  \n",
    "\n",
    "df = read_csv('caminho')  \n",
    "df.head(5) "
   ]
  },
  {
   "cell_type": "markdown",
   "metadata": {},
   "source": [
    "#### 9. Utilizando pandas, como selecionar uma coluna específica e filtrar linhas em um “DataFrame” com base em uma condição?  \n",
    "\n",
    "df_novo = df[df['coluna'] == 10]"
   ]
  },
  {
   "cell_type": "markdown",
   "metadata": {},
   "source": [
    "#### 10.Utilizando pandas, como lidar com valores ausentes (NaN) em um DataFrame?\n",
    "\n",
    "identificar valores nulos -> df.isnull()  \n",
    "excluir linhas com valores nulos -> df.dropna()  \n",
    "preencher valores nulos -> df.fillna(0)"
   ]
  },
  {
   "cell_type": "markdown",
   "metadata": {},
   "source": []
  }
 ],
 "metadata": {
  "kernelspec": {
   "display_name": "Python 3",
   "language": "python",
   "name": "python3"
  },
  "language_info": {
   "codemirror_mode": {
    "name": "ipython",
    "version": 3
   },
   "file_extension": ".py",
   "mimetype": "text/x-python",
   "name": "python",
   "nbconvert_exporter": "python",
   "pygments_lexer": "ipython3",
   "version": "3.12.0"
  }
 },
 "nbformat": 4,
 "nbformat_minor": 2
}
